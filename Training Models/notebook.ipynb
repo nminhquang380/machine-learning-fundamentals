{
 "cells": [
  {
   "attachments": {},
   "cell_type": "markdown",
   "metadata": {},
   "source": [
    "# Chapter 4: Training Models\n",
    "\n",
    "So far we have treated machine learning models and their training algorithms\n",
    "mostly like black boxes. If you went through some of the exercises in the\n",
    "previous chapters, you may have been surprised by how much you can get\n",
    "done without knowing anything about what’s under the hood: you optimized\n",
    "a regression system, you improved a digit image classifier, and you even built\n",
    "a spam classifier from scratch, all without knowing how they actually work.\n",
    "Indeed, in many situations you don’t really need to know the implementation\n",
    "details. <br>\n",
    "However, having a good understanding of how things work can help you\n",
    "quickly home in on the appropriate model, the right training algorithm to use,\n",
    "and a good set of hyperparameters for your task. Understanding what’s under\n",
    "the hood will also help you debug issues and perform error analysis more\n",
    "efficiently. Lastly, most of the topics discussed in this chapter will be\n",
    "essential in understanding, building, and training neural networks."
   ]
  },
  {
   "attachments": {},
   "cell_type": "markdown",
   "metadata": {},
   "source": [
    "## Linear Regression\n",
    "\n",
    "A linear model makes a prediction by simply computing a\n",
    "weighted sum of the input features, plus a constant called the bias term (also\n",
    "called the intercept term):\n",
    "\n",
    "$$ \\hat{y} = {\\theta_0}*0 + {\\theta_1}*x_1 + {\\theta_2}*x_2 +...+ {\\theta_n}*x_n$$\n",
    "\n",
    "In this equation:\n",
    "- ŷ is the predicted value.\n",
    "- n is the number of features.\n",
    "- x is the i feature value.\n",
    "- θ is the j model parameter, including the bias term θ and the feature\n",
    "weights θ , θ , ⋯, θ ."
   ]
  },
  {
   "attachments": {},
   "cell_type": "markdown",
   "metadata": {},
   "source": [
    "OK, that’s the linear regression model—but how do we train it? Well, recall\n",
    "that training a model means setting its parameters so that the model best fits\n",
    "the training set. For this purpose, we first need a measure of how well (or\n",
    "poorly) the model fits the training data. In Chapter 2 we saw that the most\n",
    "common performance measure of a regression model is the **root mean square\n",
    "error**. Therefore, to train a linear regression model, we need to\n",
    "find the value of θ that minimizes the RMSE. In practice, it is simpler to\n",
    "minimize the **mean squared error** (MSE) than the RMSE, and it leads to the\n",
    "same result (because the value that minimizes a positive function also\n",
    "minimizes its square root).\n",
    "\n",
    "$$MSE = \\frac{1}{n} \\sum_{i=1}^{n}(y_i - \\hat{y_i})^2$$\n",
    "\n"
   ]
  },
  {
   "attachments": {},
   "cell_type": "markdown",
   "metadata": {},
   "source": [
    "### Normal Equation\n",
    "\n",
    "To find the value of θ that minimizes the MSE, there exists a closed-form\n",
    "solution—in other words, a mathematical equation that gives the result\n",
    "directly. This is called the Normal equation:\n",
    "$$\\hat{\\theta} = (X^T X)^{-1} X^T y$$"
   ]
  },
  {
   "cell_type": "code",
   "execution_count": 1,
   "metadata": {},
   "outputs": [
    {
     "data": {
      "image/png": "[encoded data removed]",
      "text/plain": [
       "<Figure size 640x480 with 1 Axes>"
      ]
     },
     "metadata": {},
     "output_type": "display_data"
    }
   ],
   "source": [
    "import numpy as np\n",
    "import matplotlib.pyplot as plt\n",
    "\n",
    "np.random.seed(42)\n",
    "m = 100 # of instances\n",
    "X = 2*np.random.rand(m, 1) # column vector\n",
    "y = 4 + 3*X + np.random.rand(m, 1) # column vector\n",
    "\n",
    "plt.axis([0,2,0,12])\n",
    "plt.grid()\n",
    "plt.scatter(X, y)\n",
    "plt.show()"
   ]
  },
  {
   "attachments": {},
   "cell_type": "markdown",
   "metadata": {},
   "source": [
    "Now let's compute $\\hat{\\theta}$ using the Normal equation. We will use the inv()\n",
    "function from NumPy’s linear algebra module (np.linalg) to compute the\n",
    "inverse of a matrix, and the dot() method for matrix multiplication:"
   ]
  },
  {
   "cell_type": "code",
   "execution_count": 2,
   "metadata": {},
   "outputs": [],
   "source": [
    "from sklearn.preprocessing import add_dummy_feature\n",
    "\n",
    "X_b = add_dummy_feature(X)\n",
    "theta_best = np.linalg.inv(X_b.T @X_b) @ X_b.T @ y"
   ]
  },
  {
   "cell_type": "code",
   "execution_count": null,
   "metadata": {},
   "outputs": [],
   "source": []
  }
 ],
 "metadata": {
  "kernelspec": {
   "display_name": "venv",
   "language": "python",
   "name": "python3"
  },
  "language_info": {
   "codemirror_mode": {
    "name": "ipython",
    "version": 3
   },
   "file_extension": ".py",
   "mimetype": "text/x-python",
   "name": "python",
   "nbconvert_exporter": "python",
   "pygments_lexer": "ipython3",
   "version": "3.10.11"
  },
  "orig_nbformat": 4
 },
 "nbformat": 4,
 "nbformat_minor": 2
}
